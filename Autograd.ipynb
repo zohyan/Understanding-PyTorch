{
  "nbformat": 4,
  "nbformat_minor": 0,
  "metadata": {
    "colab": {
      "name": "Autograd.ipynb",
      "provenance": [],
      "collapsed_sections": [],
      "authorship_tag": "ABX9TyPcZekTi7XcxRPr7bM0qHtw",
      "include_colab_link": true
    },
    "kernelspec": {
      "name": "python3",
      "display_name": "Python 3"
    }
  },
  "cells": [
    {
      "cell_type": "markdown",
      "metadata": {
        "id": "view-in-github",
        "colab_type": "text"
      },
      "source": [
        "<a href=\"https://colab.research.google.com/github/zohyan/Understanding-PyTorch/blob/master/Autograd.ipynb\" target=\"_parent\"><img src=\"https://colab.research.google.com/assets/colab-badge.svg\" alt=\"Open In Colab\"/></a>"
      ]
    },
    {
      "cell_type": "markdown",
      "metadata": {
        "id": "AEt8U4A4wmG9",
        "colab_type": "text"
      },
      "source": [
        "# Autograd"
      ]
    },
    {
      "cell_type": "markdown",
      "metadata": {
        "id": "KzK-vD8zw3Wv",
        "colab_type": "text"
      },
      "source": [
        "Central to all neural networks in PyTorch is the **autograd** package. Let’s first briefly visit this, and we will then go to training our first neural network.\n",
        "\n",
        "The **autograd** package provides automatic differentiation for all operations on Tensors. It is a **define-by-run framework**, which means that your backprop is defined by how your code is run, and that every single iteration can be different.\n",
        "\n",
        "Let us see this in more simple terms with some examples."
      ]
    },
    {
      "cell_type": "markdown",
      "metadata": {
        "id": "CQSeSybJxRyn",
        "colab_type": "text"
      },
      "source": [
        "## Tensor"
      ]
    },
    {
      "cell_type": "markdown",
      "metadata": {
        "id": "woREMlo9xlTV",
        "colab_type": "text"
      },
      "source": [
        "**torch.Tensor** is the central class of the package. If you set its attribute **.requires_grad** as **True**, it starts to **track all operations on it**. When you finish your computation you can call **.backward()** and **have all the gradients computed automatically**. The **gradient for this tensor will be accumulated** into **.grad** attribute."
      ]
    },
    {
      "cell_type": "markdown",
      "metadata": {
        "id": "222s2u-Nyh_P",
        "colab_type": "text"
      },
      "source": [
        "To **stop a tensor from tracking history**, you can call **.detach()** to **detach it from the computation history**, and to prevent future computation from being tracked."
      ]
    },
    {
      "cell_type": "markdown",
      "metadata": {
        "id": "_sJ0yWlIy-y-",
        "colab_type": "text"
      },
      "source": [
        "To prevent tracking history (and using memory), you can also wrap the code block in **with torch.no_grad()**:. This can be particularly helpful when evaluating a model because the model may have trainable parameters with **requires_grad=True**, but for which we don’t need the gradients."
      ]
    },
    {
      "cell_type": "markdown",
      "metadata": {
        "id": "3onvsVqrzhip",
        "colab_type": "text"
      },
      "source": [
        "There’s one more class which is very important for autograd implementation - a **Function**."
      ]
    },
    {
      "cell_type": "markdown",
      "metadata": {
        "id": "lOGNLhNG6v4s",
        "colab_type": "text"
      },
      "source": [
        "**Tensor** and **Function** are interconnected and build up an acyclic graph, that encodes a complete history of computation. Each tensor has a **.grad_fn** attribute that references a **Function** that has created the **Tensor** (except for Tensors created by the user - their **grad_fn is None**)."
      ]
    },
    {
      "cell_type": "markdown",
      "metadata": {
        "id": "wtMV8RE87JAl",
        "colab_type": "text"
      },
      "source": [
        "If you want to compute the derivatives, you can call **.backward()** on a **Tensor**. If **Tensor** is a scalar (i.e. it holds a one element data), you **don’t need to specify any argument to backward()**, however if it has more elements, you need to specify a **gradient** argument that is a tensor of matching shape."
      ]
    },
    {
      "cell_type": "code",
      "metadata": {
        "id": "05uS6wrwyw5t",
        "colab_type": "code",
        "colab": {}
      },
      "source": [
        "import torch"
      ],
      "execution_count": 0,
      "outputs": []
    },
    {
      "cell_type": "markdown",
      "metadata": {
        "id": "b5Fq__HX7tCZ",
        "colab_type": "text"
      },
      "source": [
        "Create a tensor and set **requires_grad=True** to track computation with it"
      ]
    },
    {
      "cell_type": "code",
      "metadata": {
        "id": "eUCuc5C_7phb",
        "colab_type": "code",
        "colab": {
          "base_uri": "https://localhost:8080/",
          "height": 51
        },
        "outputId": "dbf81b86-5e80-4b0d-fd24-4af5e7a47b5c"
      },
      "source": [
        "# x is a 2*2 matrix\n",
        "x = torch.ones(2, 2, requires_grad=True)\n",
        "print(x)"
      ],
      "execution_count": 2,
      "outputs": [
        {
          "output_type": "stream",
          "text": [
            "tensor([[1., 1.],\n",
            "        [1., 1.]], requires_grad=True)\n"
          ],
          "name": "stdout"
        }
      ]
    },
    {
      "cell_type": "markdown",
      "metadata": {
        "id": "wbSlNEyq-WVP",
        "colab_type": "text"
      },
      "source": [
        "Out:"
      ]
    },
    {
      "cell_type": "code",
      "metadata": {
        "id": "TpRv251Q8isu",
        "colab_type": "code",
        "colab": {
          "base_uri": "https://localhost:8080/",
          "height": 51
        },
        "outputId": "bdd9e809-7c24-4275-f650-05162c98f313"
      },
      "source": [
        "y = x + 2\n",
        "print(y)"
      ],
      "execution_count": 3,
      "outputs": [
        {
          "output_type": "stream",
          "text": [
            "tensor([[3., 3.],\n",
            "        [3., 3.]], grad_fn=<AddBackward0>)\n"
          ],
          "name": "stdout"
        }
      ]
    },
    {
      "cell_type": "markdown",
      "metadata": {
        "id": "EMTLWNjo-dNE",
        "colab_type": "text"
      },
      "source": [
        "y was **created as a result of an operation**, so it has a **grad_fn**."
      ]
    },
    {
      "cell_type": "code",
      "metadata": {
        "id": "YxDI9sMJ-qCB",
        "colab_type": "code",
        "colab": {
          "base_uri": "https://localhost:8080/",
          "height": 34
        },
        "outputId": "5773edaa-c3e5-4097-ce1a-7fbe9df5e0f5"
      },
      "source": [
        "print(y.grad_fn)"
      ],
      "execution_count": 4,
      "outputs": [
        {
          "output_type": "stream",
          "text": [
            "<AddBackward0 object at 0x7fb1e2330198>\n"
          ],
          "name": "stdout"
        }
      ]
    },
    {
      "cell_type": "markdown",
      "metadata": {
        "id": "RfAWtj3R-yfN",
        "colab_type": "text"
      },
      "source": [
        "Do more operations on y"
      ]
    },
    {
      "cell_type": "code",
      "metadata": {
        "id": "mw72xBM--tUK",
        "colab_type": "code",
        "colab": {
          "base_uri": "https://localhost:8080/",
          "height": 51
        },
        "outputId": "62c64679-a28f-4330-d324-4c46a56918f7"
      },
      "source": [
        "z = y * y * 3\n",
        "out = z.mean()\n",
        "\n",
        "print(z, out)"
      ],
      "execution_count": 5,
      "outputs": [
        {
          "output_type": "stream",
          "text": [
            "tensor([[27., 27.],\n",
            "        [27., 27.]], grad_fn=<MulBackward0>) tensor(27., grad_fn=<MeanBackward0>)\n"
          ],
          "name": "stdout"
        }
      ]
    },
    {
      "cell_type": "markdown",
      "metadata": {
        "id": "L7Kn7tMf_MmJ",
        "colab_type": "text"
      },
      "source": [
        "**requires\\_grad\\_(...)** changes an existing Tensor’s **requires_grad** flag in-place. The input flag defaults to **False** if not given."
      ]
    },
    {
      "cell_type": "code",
      "metadata": {
        "id": "cnCK5rqU-2AI",
        "colab_type": "code",
        "colab": {
          "base_uri": "https://localhost:8080/",
          "height": 68
        },
        "outputId": "e0debcfe-268b-4552-ebb5-dc1592a1dec4"
      },
      "source": [
        "a = torch.randn(2, 2)\n",
        "a = ((a * 3) / (a - 1))\n",
        "print(a.requires_grad)\n",
        "a.requires_grad_(True)\n",
        "print(a.requires_grad)\n",
        "b = (a * a).sum()\n",
        "print(b.grad_fn)"
      ],
      "execution_count": 6,
      "outputs": [
        {
          "output_type": "stream",
          "text": [
            "False\n",
            "True\n",
            "<SumBackward0 object at 0x7fb1e2330ba8>\n"
          ],
          "name": "stdout"
        }
      ]
    },
    {
      "cell_type": "markdown",
      "metadata": {
        "id": "DrPOxeOnAFJC",
        "colab_type": "text"
      },
      "source": [
        "## Gradients"
      ]
    },
    {
      "cell_type": "markdown",
      "metadata": {
        "id": "L93LuKQkAPuy",
        "colab_type": "text"
      },
      "source": [
        "Let’s backprop now. Because out contains a **single scalar**, **out.backward()** is equivalent to **out.backward(torch.tensor(1.))**."
      ]
    },
    {
      "cell_type": "code",
      "metadata": {
        "id": "IsZ7wYoRAKkU",
        "colab_type": "code",
        "colab": {}
      },
      "source": [
        "out.backward()"
      ],
      "execution_count": 0,
      "outputs": []
    },
    {
      "cell_type": "markdown",
      "metadata": {
        "id": "zu6-Sr7sAl7a",
        "colab_type": "text"
      },
      "source": [
        "Print gradients d(out)/dx"
      ]
    },
    {
      "cell_type": "code",
      "metadata": {
        "id": "kcWceWqJAkPK",
        "colab_type": "code",
        "colab": {
          "base_uri": "https://localhost:8080/",
          "height": 51
        },
        "outputId": "8bfcd3cf-7642-4943-b380-cce67b91514f"
      },
      "source": [
        "print(x.grad)"
      ],
      "execution_count": 8,
      "outputs": [
        {
          "output_type": "stream",
          "text": [
            "tensor([[4.5000, 4.5000],\n",
            "        [4.5000, 4.5000]])\n"
          ],
          "name": "stdout"
        }
      ]
    },
    {
      "cell_type": "markdown",
      "metadata": {
        "id": "b4I2uz1OKZos",
        "colab_type": "text"
      },
      "source": [
        "Mathematically, if you have a vector valued function $\\vec{y}=f(\\vec{x})$, then the gradient of $\\vec{y}$ with respect to $\\vec{x}$ is a Jacobian matrix:\n",
        "\n",
        "\\begin{split}J=\\left(\\begin{array}{ccc}\n",
        " \\frac{\\partial y_{1}}{\\partial x_{1}} & \\cdots & \\frac{\\partial y_{1}}{\\partial x_{n}}\\\\\n",
        " \\vdots & \\ddots & \\vdots\\\\\n",
        " \\frac{\\partial y_{m}}{\\partial x_{1}} & \\cdots & \\frac{\\partial y_{m}}{\\partial x_{n}}\n",
        " \\end{array}\\right)\\end{split}\n",
        "\n",
        "Generally speaking, torch.autograd is an engine for computing vector-Jacobian product. That is, given any vector $v=\\left(\\begin{array}{cccc} v_{1} & v_{2} & \\cdots & v_{m}\\end{array}\\right)^{T}$,  compute the product $v^{T}\\cdot J$. If v happens to be the gradient of a scalar function $l=g\\left(\\vec{y}\\right)$, that is, $v=\\left(\\begin{array}{ccc}\\frac{\\partial l}{\\partial y_{1}} & \\cdots & \\frac{\\partial l}{\\partial y_{m}}\\end{array}\\right)^{T}$, then by the chain rule, the vector-Jacobian product would be the gradient of l with respect to $\\vec{x}$ :\n",
        "\n",
        "\\begin{split}J^{T}\\cdot v=\\left(\\begin{array}{ccc}\n",
        " \\frac{\\partial y_{1}}{\\partial x_{1}} & \\cdots & \\frac{\\partial y_{m}}{\\partial x_{1}}\\\\\n",
        " \\vdots & \\ddots & \\vdots\\\\\n",
        " \\frac{\\partial y_{1}}{\\partial x_{n}} & \\cdots & \\frac{\\partial y_{m}}{\\partial x_{n}}\n",
        " \\end{array}\\right)\\left(\\begin{array}{c}\n",
        " \\frac{\\partial l}{\\partial y_{1}}\\\\\n",
        " \\vdots\\\\\n",
        " \\frac{\\partial l}{\\partial y_{m}}\n",
        " \\end{array}\\right)=\\left(\\begin{array}{c}\n",
        " \\frac{\\partial l}{\\partial x_{1}}\\\\\n",
        " \\vdots\\\\\n",
        " \\frac{\\partial l}{\\partial x_{n}}\n",
        " \\end{array}\\right)\\end{split}\n",
        "\n",
        "(Note that $v^{T}\\cdot J$ gives a row vector which can be treated as a column vector by taking $J^{T}\\cdot v$.)\n",
        "\n",
        "Now let’s take a look at an example of vector-Jacobian product:"
      ]
    },
    {
      "cell_type": "code",
      "metadata": {
        "id": "iU2m7A-9AoQY",
        "colab_type": "code",
        "colab": {
          "base_uri": "https://localhost:8080/",
          "height": 34
        },
        "outputId": "2177a672-b885-4f65-cd83-38cc98e3bfd0"
      },
      "source": [
        "x = torch.randn(3, requires_grad=True)\n",
        "\n",
        "y = x * 2\n",
        "while y.data.norm() < 1000:\n",
        "    y = y * 2\n",
        "\n",
        "print(y)"
      ],
      "execution_count": 9,
      "outputs": [
        {
          "output_type": "stream",
          "text": [
            "tensor([ 877.7153, -335.7053,  518.6771], grad_fn=<MulBackward0>)\n"
          ],
          "name": "stdout"
        }
      ]
    },
    {
      "cell_type": "markdown",
      "metadata": {
        "id": "hlfBEmrvNx4D",
        "colab_type": "text"
      },
      "source": [
        "Now in this case **y** is no longer a scalar. **torch.autograd** could not compute the full Jacobian directly, but if we just want the vector-Jacobian product, simply pass the vector to **backward** as argument:"
      ]
    },
    {
      "cell_type": "code",
      "metadata": {
        "id": "wGSn-pWQNfya",
        "colab_type": "code",
        "colab": {
          "base_uri": "https://localhost:8080/",
          "height": 34
        },
        "outputId": "df34b93e-b8c1-424f-c55e-3035b7f6eff3"
      },
      "source": [
        "v = torch.tensor([0.1, 1.0, 0.0001], dtype=torch.float)\n",
        "y.backward(v)\n",
        "\n",
        "print(x.grad)"
      ],
      "execution_count": 10,
      "outputs": [
        {
          "output_type": "stream",
          "text": [
            "tensor([5.1200e+01, 5.1200e+02, 5.1200e-02])\n"
          ],
          "name": "stdout"
        }
      ]
    },
    {
      "cell_type": "markdown",
      "metadata": {
        "id": "9DhApygVOGML",
        "colab_type": "text"
      },
      "source": [
        "You can also stop autograd from tracking history on Tensors with **.requires_grad=True** either by wrapping the code block in **with torch.no_grad()**:"
      ]
    },
    {
      "cell_type": "code",
      "metadata": {
        "id": "YLyHrLCZN_b9",
        "colab_type": "code",
        "colab": {
          "base_uri": "https://localhost:8080/",
          "height": 68
        },
        "outputId": "869fd38e-5944-48db-afba-bb0a62ae3a10"
      },
      "source": [
        "print(x.requires_grad)\n",
        "print((x ** 2).requires_grad)\n",
        "\n",
        "with torch.no_grad():\n",
        "    print((x ** 2).requires_grad)"
      ],
      "execution_count": 11,
      "outputs": [
        {
          "output_type": "stream",
          "text": [
            "True\n",
            "True\n",
            "False\n"
          ],
          "name": "stdout"
        }
      ]
    },
    {
      "cell_type": "markdown",
      "metadata": {
        "id": "F8ZX5dRXOhh8",
        "colab_type": "text"
      },
      "source": [
        "Or by using **.detach()** to get a new Tensor with the same content but that does not require gradients:"
      ]
    },
    {
      "cell_type": "code",
      "metadata": {
        "id": "jCzrPpvNOa9C",
        "colab_type": "code",
        "colab": {
          "base_uri": "https://localhost:8080/",
          "height": 68
        },
        "outputId": "addd705a-7c33-4434-d683-f41e3db56543"
      },
      "source": [
        "print(x.requires_grad)\n",
        "y = x.detach()\n",
        "print(y.requires_grad)\n",
        "print(x.eq(y).all())"
      ],
      "execution_count": 12,
      "outputs": [
        {
          "output_type": "stream",
          "text": [
            "True\n",
            "False\n",
            "tensor(True)\n"
          ],
          "name": "stdout"
        }
      ]
    },
    {
      "cell_type": "code",
      "metadata": {
        "id": "euBXiI84Ol-O",
        "colab_type": "code",
        "colab": {}
      },
      "source": [
        ""
      ],
      "execution_count": 0,
      "outputs": []
    }
  ]
}