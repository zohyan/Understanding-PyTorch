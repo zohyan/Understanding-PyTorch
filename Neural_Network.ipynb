{
  "nbformat": 4,
  "nbformat_minor": 0,
  "metadata": {
    "colab": {
      "name": "Neural-Network.ipynb",
      "provenance": [],
      "authorship_tag": "ABX9TyMgbxgJSiqQMHpon49RdXrm",
      "include_colab_link": true
    },
    "kernelspec": {
      "name": "python3",
      "display_name": "Python 3"
    }
  },
  "cells": [
    {
      "cell_type": "markdown",
      "metadata": {
        "id": "view-in-github",
        "colab_type": "text"
      },
      "source": [
        "<a href=\"https://colab.research.google.com/github/zohyan/Understanding-PyTorch/blob/master/Neural_Network.ipynb\" target=\"_parent\"><img src=\"https://colab.research.google.com/assets/colab-badge.svg\" alt=\"Open In Colab\"/></a>"
      ]
    },
    {
      "cell_type": "markdown",
      "metadata": {
        "id": "gvuA7AEIdnxJ",
        "colab_type": "text"
      },
      "source": [
        "Neural networks can be constructed using the **torch.nn** package. **nn** depends on **autograd** to define models and differentiate them. An **nn.Module** contains layers, and a method **forward(input)** that returns the **output**."
      ]
    },
    {
      "cell_type": "markdown",
      "metadata": {
        "id": "7TeUrUpBnq1F",
        "colab_type": "text"
      },
      "source": [
        "For example, look at this network that classifies digit images:\n",
        "\n",
        "![alt text](https://drive.google.com/uc?id=1gh0Ew2t435IZ0NuUR1Mnl75wDYvkPkyL)"
      ]
    },
    {
      "cell_type": "markdown",
      "metadata": {
        "id": "IATjzMrjsAj6",
        "colab_type": "text"
      },
      "source": [
        "It is a simple feed-forward network. It takes the input, feeds it through several layers one after the other, and then finally gives the output.\n",
        "\n",
        "A typical training procedure for a neural network is as follows:\n",
        "\n",
        "\n",
        "1.   Define the neural network that has some learnable parameters (or weights)\n",
        "2.   Iterate over a dataset of inputs\n",
        "3.   Process input through the network\n",
        "4.   Compute the loss (how far is the output from being correct)\n",
        "5.   Propagate gradients back into the network’s parameters\n",
        "6.   Update the weights of the network, typically using a simple update rule: **weight = weight - learning_rate * gradient**"
      ]
    },
    {
      "cell_type": "markdown",
      "metadata": {
        "id": "Fa7aB-fut0EZ",
        "colab_type": "text"
      },
      "source": [
        "### 1. Define the network"
      ]
    },
    {
      "cell_type": "markdown",
      "metadata": {
        "id": "3gss6SPFt-jK",
        "colab_type": "text"
      },
      "source": [
        "Let’s define this network:"
      ]
    },
    {
      "cell_type": "code",
      "metadata": {
        "id": "LVOO8mK7t0ve",
        "colab_type": "code",
        "outputId": "592a50fc-2acb-4a0b-e3e7-8ad67e0f7196",
        "colab": {
          "base_uri": "https://localhost:8080/",
          "height": 136
        }
      },
      "source": [
        "import torch\n",
        "import torch.nn as nn\n",
        "import torch.nn.functional as F\n",
        "\n",
        "\n",
        "class Net(nn.Module):\n",
        "\n",
        "    def __init__(self):\n",
        "        super(Net, self).__init__()\n",
        "        # 1 input image channel, 6 output channels, 3x3 square convolution\n",
        "        # kernel\n",
        "        self.conv1 = nn.Conv2d(1, 6, 3)\n",
        "        self.conv2 = nn.Conv2d(6, 16, 3)\n",
        "        # an affine operation: y = Wx + b\n",
        "        self.fc1 = nn.Linear(16 * 6 * 6, 120)  # 6*6 from image dimension\n",
        "        self.fc2 = nn.Linear(120, 84)\n",
        "        self.fc3 = nn.Linear(84, 10)\n",
        "\n",
        "    # this is where we use the torch.nn.functional package\n",
        "    def forward(self, x):\n",
        "        # Max pooling over a (2, 2) window\n",
        "        x = F.max_pool2d(F.relu(self.conv1(x)), (2, 2))\n",
        "        # If the size is a square you can only specify a single number\n",
        "        x = F.max_pool2d(F.relu(self.conv2(x)), (2, 2))\n",
        "        x = x.view(-1, self.num_flat_features(x))\n",
        "        x = F.relu(self.fc1(x))\n",
        "        x = F.relu(self.fc2(x))\n",
        "        x = self.fc3(x)\n",
        "        return x\n",
        "\n",
        "    def num_flat_features(self, x):\n",
        "        size = x.size()[1:]  # all dimensions except the batch dimension\n",
        "        num_features = 1\n",
        "        for s in size:\n",
        "            num_features *= s\n",
        "        return num_features\n",
        "\n",
        "\n",
        "net = Net()\n",
        "print(net)"
      ],
      "execution_count": 0,
      "outputs": [
        {
          "output_type": "stream",
          "text": [
            "Net(\n",
            "  (conv1): Conv2d(1, 6, kernel_size=(3, 3), stride=(1, 1))\n",
            "  (conv2): Conv2d(6, 16, kernel_size=(3, 3), stride=(1, 1))\n",
            "  (fc1): Linear(in_features=576, out_features=120, bias=True)\n",
            "  (fc2): Linear(in_features=120, out_features=84, bias=True)\n",
            "  (fc3): Linear(in_features=84, out_features=10, bias=True)\n",
            ")\n"
          ],
          "name": "stdout"
        }
      ]
    },
    {
      "cell_type": "markdown",
      "metadata": {
        "id": "SqkUuOt4STPQ",
        "colab_type": "text"
      },
      "source": [
        "You just have to define the **forward** function, and the **backward** function (where gradients are computed) is automatically defined for you using **autograd**. You can use any of the Tensor operations in the **forward** function.\n",
        "\n",
        "The **learnable parameters** of a model are returned by **net.parameters()**"
      ]
    },
    {
      "cell_type": "code",
      "metadata": {
        "id": "yT26iBLsuD1Q",
        "colab_type": "code",
        "outputId": "94ea1376-d8a7-44db-b678-ad83e3d8b686",
        "colab": {
          "base_uri": "https://localhost:8080/",
          "height": 51
        }
      },
      "source": [
        "params = list(net.parameters())\n",
        "print(len(params))\n",
        "print(params[0].size()) "
      ],
      "execution_count": 0,
      "outputs": [
        {
          "output_type": "stream",
          "text": [
            "10\n",
            "torch.Size([6, 1, 3, 3])\n"
          ],
          "name": "stdout"
        }
      ]
    },
    {
      "cell_type": "markdown",
      "metadata": {
        "id": "H-jsFykdUpiG",
        "colab_type": "text"
      },
      "source": [
        "Let’s try a random 32x32 input. Note: expected input size of this net (LeNet) is 32x32. To use this net on the MNIST dataset, please resize the images from the dataset to 32x32."
      ]
    },
    {
      "cell_type": "code",
      "metadata": {
        "id": "exDU3WOHTK8B",
        "colab_type": "code",
        "outputId": "9808cc21-926a-4bf8-e59f-967905b4ad3b",
        "colab": {
          "base_uri": "https://localhost:8080/",
          "height": 51
        }
      },
      "source": [
        "input = torch.randn(1, 1, 32, 32)\n",
        "out = net(input)\n",
        "print(out)"
      ],
      "execution_count": 0,
      "outputs": [
        {
          "output_type": "stream",
          "text": [
            "tensor([[ 0.0350, -0.1174, -0.0158,  0.1175, -0.0825,  0.1636,  0.0283, -0.0860,\n",
            "         -0.0282,  0.0490]], grad_fn=<AddmmBackward>)\n"
          ],
          "name": "stdout"
        }
      ]
    },
    {
      "cell_type": "markdown",
      "metadata": {
        "id": "SXacjoUHU9oE",
        "colab_type": "text"
      },
      "source": [
        "Zero the gradient buffers of all parameters and backprops with random gradients:"
      ]
    },
    {
      "cell_type": "code",
      "metadata": {
        "id": "kQPvDpAgUznN",
        "colab_type": "code",
        "colab": {}
      },
      "source": [
        "# Calculation of the gradients of a randomly\n",
        "# generated tensor via backpropagation\n",
        "\n",
        "net.zero_grad()\n",
        "out.backward(torch.randn(1, 10))"
      ],
      "execution_count": 0,
      "outputs": []
    },
    {
      "cell_type": "markdown",
      "metadata": {
        "id": "V0NITpUcWDRj",
        "colab_type": "text"
      },
      "source": [
        "**torch.nn only supports mini-batches**. The entire **torch.nn** package only supports inputs that are a mini-batch of samples, and not a single sample.\n",
        "\n",
        "For example, **nn.Conv2d** will take in a 4D Tensor of **nSamples x nChannels x Height x Width**.\n",
        "\n",
        "If you have a single sample, just use **input.unsqueeze(0)** to add a fake batch dimension."
      ]
    },
    {
      "cell_type": "markdown",
      "metadata": {
        "id": "YOJiH-4DXT0I",
        "colab_type": "text"
      },
      "source": [
        "## **2. Loss Function**"
      ]
    },
    {
      "cell_type": "markdown",
      "metadata": {
        "id": "-ddbSbrEXnC2",
        "colab_type": "text"
      },
      "source": [
        "A loss function takes the (output, target) pair of inputs, and computes a value that estimates how far away the output is from the target.\n",
        "\n",
        "There are several different loss functions under the nn package . A simple loss is: **nn.MSELoss** which computes the mean-squared error between the input and the target."
      ]
    },
    {
      "cell_type": "code",
      "metadata": {
        "id": "7w_q50jrVENT",
        "colab_type": "code",
        "outputId": "f5283608-cdc2-4b73-fcd7-ff882e401513",
        "colab": {
          "base_uri": "https://localhost:8080/",
          "height": 34
        }
      },
      "source": [
        "output = net(input)\n",
        "target = torch.randn(10)  # a dummy target, for example\n",
        "target = target.view(1, -1)  # make it the same shape as output\n",
        "criterion = nn.MSELoss()\n",
        "\n",
        "loss = criterion(output, target)\n",
        "print(loss)"
      ],
      "execution_count": 0,
      "outputs": [
        {
          "output_type": "stream",
          "text": [
            "tensor(0.7575, grad_fn=<MseLossBackward>)\n"
          ],
          "name": "stdout"
        }
      ]
    },
    {
      "cell_type": "markdown",
      "metadata": {
        "id": "q6iLRgZwZN66",
        "colab_type": "text"
      },
      "source": [
        "So, when we call **loss.backward()**, the whole graph is **differentiated w.r.t. the loss**, and all Tensors in the graph that has **requires_grad=True** will have their **.grad** Tensor accumulated with the gradient."
      ]
    },
    {
      "cell_type": "markdown",
      "metadata": {
        "id": "VgnNXayKZeUf",
        "colab_type": "text"
      },
      "source": [
        "## **3.   Backprop**\n",
        "\n"
      ]
    },
    {
      "cell_type": "markdown",
      "metadata": {
        "id": "FjB5akvCZzGH",
        "colab_type": "text"
      },
      "source": [
        "To backpropagate the error all we have to do is to **loss.backward()**. **You need to clear the existing gradients though, else gradients will be accumulated to existing gradients.**\n",
        "\n",
        "Now we shall call loss.backward(), and have a look at conv1’s bias gradients before and after the backward."
      ]
    },
    {
      "cell_type": "code",
      "metadata": {
        "id": "yTUMRfrEYHEs",
        "colab_type": "code",
        "outputId": "4907903c-18a9-4814-fe96-2ac2db6ab31f",
        "colab": {
          "base_uri": "https://localhost:8080/",
          "height": 85
        }
      },
      "source": [
        "net.zero_grad()\n",
        "\n",
        "print('conv1.bias.grad before backward')\n",
        "print(net.conv1.bias.grad)\n",
        "\n",
        "loss.backward()\n",
        "\n",
        "print('conv1.bias.grad after backward')\n",
        "print(net.conv1.bias.grad)"
      ],
      "execution_count": 0,
      "outputs": [
        {
          "output_type": "stream",
          "text": [
            "conv1.bias.grad before backward\n",
            "tensor([0., 0., 0., 0., 0., 0.])\n",
            "conv1.bias.grad after backward\n",
            "tensor([ 0.0143,  0.0050, -0.0081, -0.0111,  0.0109,  0.0094])\n"
          ],
          "name": "stdout"
        }
      ]
    },
    {
      "cell_type": "markdown",
      "metadata": {
        "id": "IKz0uCf6abI1",
        "colab_type": "text"
      },
      "source": [
        "## **4.   Update the weights**"
      ]
    },
    {
      "cell_type": "markdown",
      "metadata": {
        "id": "e_-BthnCai-g",
        "colab_type": "text"
      },
      "source": [
        "However, as you use neural networks, you want to use various different update rules such as SGD, Nesterov-SGD, Adam, RMSProp, etc. To enable this, we built a small package: **torch.optim** that implements all these methods. Using it is very simple:"
      ]
    },
    {
      "cell_type": "code",
      "metadata": {
        "id": "sfygV-a5Z_fV",
        "colab_type": "code",
        "colab": {}
      },
      "source": [
        "import torch.optim as optim\n",
        "\n",
        "# create your optimizer\n",
        "optimizer = optim.SGD(net.parameters(), lr=0.01)\n",
        "\n",
        "# in your training loop:\n",
        "optimizer.zero_grad()   # zero the gradient buffers\n",
        "output = net(input)\n",
        "loss = criterion(output, target)\n",
        "loss.backward()\n",
        "optimizer.step()    # Does the update"
      ],
      "execution_count": 0,
      "outputs": []
    }
  ]
}